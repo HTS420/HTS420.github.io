{
 "cells": [
  {
   "cell_type": "code",
   "execution_count": 2,
   "id": "aa306f00",
   "metadata": {},
   "outputs": [
    {
     "name": "stdout",
     "output_type": "stream",
     "text": [
      "圖片已轉換為Excel成功！\n"
     ]
    },
    {
     "name": "stderr",
     "output_type": "stream",
     "text": [
      "/var/folders/gv/j8gzpqcd1tq_3x5vz5ly9ldh0000gn/T/ipykernel_74827/3100138918.py:33: FutureWarning: The frame.append method is deprecated and will be removed from pandas in a future version. Use pandas.concat instead.\n",
      "  df = df.append([line.split()], ignore_index=True)\n"
     ]
    }
   ],
   "source": [
    "import cv2\n",
    "import pytesseract\n",
    "from PIL import Image\n",
    "\n",
    "# Set the path to the Tesseract executable\n",
    "pytesseract.pytesseract.tesseract_cmd = '/opt/homebrew/bin/tesseract'\n",
    "\n",
    "# Rest of your code here\n",
    "\n",
    "import pandas as pd\n",
    "\n",
    "# Read the picture\n",
    "image_path = 'test.jpg'\n",
    "image = cv2.imread(image_path)\n",
    "\n",
    "# transform the picture into grayscale\n",
    "#gray_image = cv2.cvtColor(image, cv2.COLOR_BGR2GRAY)\n",
    "\n",
    "# Use pytesseract to do OCR transformation, and select Traditional Chinese as the language\n",
    "text = pytesseract.image_to_string(gray_image, lang='chi_tra')\n",
    "\n",
    "# Use pytesseract to do OCR transformation, and select English as the language\n",
    "text = pytesseract.image_to_string(gray_image, lang='eng')\n",
    "\n",
    "# split the texts into lines\n",
    "lines = text.split('\\n')\n",
    "\n",
    "# create an empty DataFrame\n",
    "df = pd.DataFrame()\n",
    "\n",
    "# Split each row of texts into a field\n",
    "for line in lines:\n",
    "    df = df.append([line.split()], ignore_index=True)\n",
    "\n",
    "# save dataframe as excel\n",
    "excel_file = 'output.xlsx'\n",
    "df.to_excel(excel_file, index=False)\n",
    "print(\"The transformation of the image to excel is successful！\")\n"
   ]
  },
  {
   "cell_type": "code",
   "execution_count": null,
   "id": "26591199",
   "metadata": {},
   "outputs": [],
   "source": []
  },
  {
   "cell_type": "code",
   "execution_count": null,
   "id": "408f0111",
   "metadata": {},
   "outputs": [],
   "source": []
  }
 ],
 "metadata": {
  "kernelspec": {
   "display_name": "Python 3 (ipykernel)",
   "language": "python",
   "name": "python3"
  },
  "language_info": {
   "codemirror_mode": {
    "name": "ipython",
    "version": 3
   },
   "file_extension": ".py",
   "mimetype": "text/x-python",
   "name": "python",
   "nbconvert_exporter": "python",
   "pygments_lexer": "ipython3",
   "version": "3.11.4"
  }
 },
 "nbformat": 4,
 "nbformat_minor": 5
}
