{
 "cells": [
  {
   "cell_type": "code",
   "execution_count": 1,
   "id": "aa306f00",
   "metadata": {},
   "outputs": [
    {
     "name": "stdout",
     "output_type": "stream",
     "text": [
      "The transformation of the image to excel is successful！\n"
     ]
    }
   ],
   "source": [
    "import cv2 #pip install opencv-python if not yet installed\n",
    "import pytesseract #pip install pytesseract if not yet installed\n",
    "from PIL import Image\n",
    "\n",
    "# Set the path to the Tesseract executable\n",
    "pytesseract.pytesseract.tesseract_cmd = '/opt/homebrew/bin/tesseract'\n",
    "\n",
    "# Rest of your code here\n",
    "\n",
    "import pandas as pd #pip install pandas if not yet installed\n",
    "\n",
    "# Read the picture\n",
    "image_path = 'test.jpg'\n",
    "image = cv2.imread(image_path)\n",
    "\n",
    "# transform the picture into grayscale\n",
    "gray_image = cv2.cvtColor(image, cv2.COLOR_BGR2GRAY)\n",
    "\n",
    "# Use pytesseract to do OCR transformation, and select Traditional Chinese as the language\n",
    "text = pytesseract.image_to_string(gray_image, lang='chi_tra')\n",
    "\n",
    "# Use pytesseract to do OCR transformation, and select English as the language\n",
    "text = pytesseract.image_to_string(gray_image, lang='eng')\n",
    "\n",
    "# split the texts into lines\n",
    "lines = text.split('\\n')\n",
    "\n",
    "# create an empty DataFrame\n",
    "df = pd.DataFrame()\n",
    "\n",
    "# Split each row of texts into a field\n",
    "for line in lines:\n",
    "    df1 = df\n",
    "    df2 = pd.DataFrame([line.split()])\n",
    "    df = pd.concat([df1, df2])\n",
    "    #df = df.concat([line.split()], ignore_index=True)\n",
    "\n",
    "# save dataframe as excel\n",
    "excel_file = 'output.xlsx'\n",
    "df.to_excel(excel_file, index=False) #needs pip install openpyxl\n",
    "print(\"The transformation of the image to excel is successful！\")"
   ]
  }
 ],
 "metadata": {
  "kernelspec": {
   "display_name": "Python 3 (ipykernel)",
   "language": "python",
   "name": "python3"
  },
  "language_info": {
   "codemirror_mode": {
    "name": "ipython",
    "version": 3
   },
   "file_extension": ".py",
   "mimetype": "text/x-python",
   "name": "python",
   "nbconvert_exporter": "python",
   "pygments_lexer": "ipython3",
   "version": "3.11.4"
  }
 },
 "nbformat": 4,
 "nbformat_minor": 5
}
